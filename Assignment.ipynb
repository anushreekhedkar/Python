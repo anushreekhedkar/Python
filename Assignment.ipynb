{
  "nbformat": 4,
  "nbformat_minor": 0,
  "metadata": {
    "colab": {
      "provenance": []
    },
    "kernelspec": {
      "name": "python3",
      "display_name": "Python 3"
    },
    "language_info": {
      "name": "python"
    }
  },
  "cells": [
    {
      "cell_type": "markdown",
      "source": [
        " 1. Check if a given string is a palindrome."
      ],
      "metadata": {
        "id": "AkqrfOfqnc3m"
      }
    },
    {
      "cell_type": "code",
      "execution_count": 12,
      "metadata": {
        "colab": {
          "base_uri": "https://localhost:8080/"
        },
        "id": "AaIESJCAjlYy",
        "outputId": "08320057-1c2e-4e23-9bf8-f4cdd4ec8265"
      },
      "outputs": [
        {
          "output_type": "stream",
          "name": "stdout",
          "text": [
            "Yes\n"
          ]
        }
      ],
      "source": [
        "s = \"madam\" # string\n",
        "\n",
        "if s == s[::-1]:\n",
        "    print(\"Yes\")\n",
        "else:\n",
        "    print(\"No\")"
      ]
    },
    {
      "cell_type": "markdown",
      "source": [
        " 2. Count the number of vowels in a string and store the result in a dictionary."
      ],
      "metadata": {
        "id": "EULXi5UVnFUi"
      }
    },
    {
      "cell_type": "code",
      "source": [
        "s = \"Python Programming\"\n",
        "vowels = {'a', 'e', 'i', 'o', 'u'}\n",
        "c = sum(1 for ch in s if ch in vowels)\n",
        "\n",
        "print(\"Number of vowels:\", c)\n"
      ],
      "metadata": {
        "colab": {
          "base_uri": "https://localhost:8080/"
        },
        "id": "qctvVbprlQgg",
        "outputId": "78de0207-9082-44c5-e36f-110050bc2c79"
      },
      "execution_count": 45,
      "outputs": [
        {
          "output_type": "stream",
          "name": "stdout",
          "text": [
            "Number of vowels: 4\n"
          ]
        }
      ]
    },
    {
      "cell_type": "markdown",
      "source": [
        " 3. Convert the first letter of each word in a string to uppercase (title case manually).\n",
        "\n",
        "\n"
      ],
      "metadata": {
        "id": "9Gve5W-6nABs"
      }
    },
    {
      "cell_type": "code",
      "source": [
        "s = \"hello!welcome in world of python\"\n",
        "\n",
        "result = s.title()\n",
        "print(result)"
      ],
      "metadata": {
        "colab": {
          "base_uri": "https://localhost:8080/"
        },
        "id": "ab7lzpvtpnYe",
        "outputId": "041f6ccc-d049-433a-9cf5-cee0079646e7"
      },
      "execution_count": 23,
      "outputs": [
        {
          "output_type": "stream",
          "name": "stdout",
          "text": [
            "Hello!Welcome In World Of Python\n"
          ]
        }
      ]
    },
    {
      "cell_type": "markdown",
      "source": [
        "4. Find the most frequently occurring character in a string."
      ],
      "metadata": {
        "id": "hfCE2tkFqazF"
      }
    },
    {
      "cell_type": "code",
      "source": [
        "def find_most_frequent_char(input_string):\n",
        "    char_counts = {}\n",
        "    for char in input_string:\n",
        "        char_counts[char] = char_counts.get(char, 0) + 1\n",
        "\n",
        "    most_frequent_char = None\n",
        "    max_count = 0\n",
        "\n",
        "    for char, count in char_counts.items():\n",
        "        if count > max_count:\n",
        "            max_count = count\n",
        "            most_frequent_char = char\n",
        "\n",
        "    return most_frequent_char\n",
        "\n",
        "s = \"hello world\"\n",
        "result = find_most_frequent_char(s)\n",
        "print(f\"The most frequent character is: {result}\")"
      ],
      "metadata": {
        "colab": {
          "base_uri": "https://localhost:8080/"
        },
        "id": "MC12eQ6yqgtd",
        "outputId": "ec99235a-c436-433d-8ea5-59dad219fec5"
      },
      "execution_count": 25,
      "outputs": [
        {
          "output_type": "stream",
          "name": "stdout",
          "text": [
            "The most frequent character is: l\n"
          ]
        }
      ]
    },
    {
      "cell_type": "markdown",
      "source": [
        " 5. Count digits, alphabets, and special characters separately in a string."
      ],
      "metadata": {
        "id": "3FFWYFrc1OpL"
      }
    },
    {
      "cell_type": "code",
      "source": [],
      "metadata": {
        "id": "aw1zfFr21QTr"
      },
      "execution_count": null,
      "outputs": []
    },
    {
      "cell_type": "markdown",
      "source": [
        " 6. Remove duplicate elements from a list without using set()."
      ],
      "metadata": {
        "id": "4y-IUdsU3jEK"
      }
    },
    {
      "cell_type": "code",
      "source": [
        "def remove_duplicates_without_set(input_list):\n",
        "    unique_list = []\n",
        "    for item in input_list:\n",
        "        if item not in unique_list:\n",
        "            unique_list.append(item)\n",
        "    return unique_list\n",
        "my_list = [2, 1, 2, 3, 4, 3, 5, 1, 6, 4, 5, 6 ]\n",
        "unique_elements = remove_duplicates_without_set(my_list)\n",
        "print(unique_elements)"
      ],
      "metadata": {
        "id": "l2Fnw0_N42az",
        "colab": {
          "base_uri": "https://localhost:8080/"
        },
        "outputId": "cc3b488f-a470-4ba2-a76e-c3179e0f78d4"
      },
      "execution_count": 34,
      "outputs": [
        {
          "output_type": "stream",
          "name": "stdout",
          "text": [
            "[2, 1, 3, 4, 5, 6]\n"
          ]
        }
      ]
    },
    {
      "cell_type": "markdown",
      "source": [
        " 8. Find the 2nd largest and 2nd smallest element in a list."
      ],
      "metadata": {
        "id": "iBKrsv6I5veG"
      }
    },
    {
      "cell_type": "code",
      "source": [
        "a = [12, 45, 2, 41, 31, 10, 8, 6, 4]\n",
        "\n",
        "l2 = max(a)\n",
        "s2 = min(a)\n",
        "\n",
        "print(f\" 2nd largest: {l2}, 2nd Smallest: {s2}\")"
      ],
      "metadata": {
        "colab": {
          "base_uri": "https://localhost:8080/"
        },
        "id": "yvqP_MIe50Oj",
        "outputId": "b8f408b0-0ec5-4b4c-fd44-813808d97b08"
      },
      "execution_count": 36,
      "outputs": [
        {
          "output_type": "stream",
          "name": "stdout",
          "text": [
            " 2nd largest: 45, 2nd Smallest: 2\n"
          ]
        }
      ]
    },
    {
      "cell_type": "markdown",
      "source": [
        " 9. Store the square of each element of a list into a new list (using list comprehension)."
      ],
      "metadata": {
        "id": "S726cvvA7VGW"
      }
    },
    {
      "cell_type": "code",
      "source": [
        "a = [1, 2, 3, 4, 5]\n",
        "res = [val ** 2 for val in a]\n",
        "print(res)"
      ],
      "metadata": {
        "colab": {
          "base_uri": "https://localhost:8080/"
        },
        "id": "sWezrQ1X7WeS",
        "outputId": "814d93a4-02b2-412e-888f-b0d04d4c517b"
      },
      "execution_count": 38,
      "outputs": [
        {
          "output_type": "stream",
          "name": "stdout",
          "text": [
            "[1, 4, 9, 16, 25]\n"
          ]
        }
      ]
    },
    {
      "cell_type": "markdown",
      "source": [
        " 10. Flatten a nested list into a single list."
      ],
      "metadata": {
        "id": "G4UYs_2W8NeV"
      }
    },
    {
      "cell_type": "code",
      "source": [
        "lis = [[1, 2, 3, 4], [5, 6, 7], [8, 9, 10]]\n",
        "\n",
        "flatList = [element for innerList in lis for element in innerList]\n",
        "\n",
        "print('List', lis)\n",
        "\n",
        "print('Flat List', flatList)"
      ],
      "metadata": {
        "colab": {
          "base_uri": "https://localhost:8080/"
        },
        "id": "IZ94R_Ye8O6n",
        "outputId": "73e0ec4f-c125-4969-f5ac-368cd1f400ca"
      },
      "execution_count": 41,
      "outputs": [
        {
          "output_type": "stream",
          "name": "stdout",
          "text": [
            "List [[1, 2, 3, 4], [5, 6, 7], [8, 9, 10]]\n",
            "Flat List [1, 2, 3, 4, 5, 6, 7, 8, 9, 10]\n"
          ]
        }
      ]
    },
    {
      "cell_type": "markdown",
      "source": [
        " 11. Reverse a tuple without using [::-1]."
      ],
      "metadata": {
        "id": "zCVqUx1i8_pk"
      }
    },
    {
      "cell_type": "code",
      "source": [
        "my_tuple = (1, 2, 3, 4, 5)\n",
        "reversed_tuple = tuple(reversed(my_tuple))\n",
        "print(reversed_tuple)"
      ],
      "metadata": {
        "colab": {
          "base_uri": "https://localhost:8080/"
        },
        "id": "Pxq0ErkK9D8G",
        "outputId": "d45b3210-735e-43c9-d872-449c14f1d65c"
      },
      "execution_count": 42,
      "outputs": [
        {
          "output_type": "stream",
          "name": "stdout",
          "text": [
            "(5, 4, 3, 2, 1)\n"
          ]
        }
      ]
    }
  ]
}